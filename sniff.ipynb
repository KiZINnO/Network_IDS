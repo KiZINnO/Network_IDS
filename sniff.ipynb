{
 "cells": [
  {
   "cell_type": "code",
   "execution_count": null,
   "metadata": {},
   "outputs": [],
   "source": [
    "from scapy.all import *\n",
    "\n",
    "def packet_callback(packet):\n",
    "    print(packet.summary())\n",
    "    # Here you can pass the packet to your preprocessing module\n",
    "\n",
    "# Capture packets from the virtual interface (e.g., 'eth0' in your VM)\n",
    "sniff(iface=\"Wi-Fi\", prn=packet_callback, store=0)\n"
   ]
  },
  {
   "cell_type": "code",
   "execution_count": null,
   "metadata": {},
   "outputs": [],
   "source": [
    "from scapy.all import show_interfaces\n",
    "show_interfaces()"
   ]
  },
  {
   "cell_type": "code",
   "execution_count": null,
   "metadata": {},
   "outputs": [],
   "source": [
    "# !/usr/bin/env python3\n",
    "from scapy.all import sniff, Dot11, IP\n",
    "\n",
    "def packet_handler(packet):\n",
    "    # Check if the packet contains an 802.11 (Wi-Fi) frame\n",
    "    if packet.haslayer(Dot11):\n",
    "        dot11 = packet.getlayer(Dot11)\n",
    "        # Extract source, destination and type from the Dot11 layer\n",
    "        src_mac = dot11.addr2  # Transmitter address\n",
    "        dst_mac = dot11.addr1  # Receiver address\n",
    "        frame_type = dot11.type\n",
    "        print(\"---- Wi-Fi (802.11) Frame ----\")\n",
    "        print(f\"Source MAC: {src_mac}\")\n",
    "        print(f\"Destination MAC: {dst_mac}\")\n",
    "        print(f\"Frame Type: {frame_type}\")\n",
    "        \n",
    "        # Check if the packet has an IP layer embedded (typical for data frames)\n",
    "        if packet.haslayer(IP):\n",
    "            ip_layer = packet.getlayer(IP)\n",
    "            print(\"---- Network (IP) Layer ----\")\n",
    "            print(f\"Source IP: {ip_layer.src}\")\n",
    "            print(f\"Destination IP: {ip_layer.dst}\")\n",
    "        print(\"------------------------------\\n\")\n",
    "\n",
    "# Replace 'wlan0mon' with your wireless interface in monitor mode.\n",
    "print(\"Starting packet capture on wlan0mon...\")\n",
    "sniff(iface=\"wlx00e0322c521c\", prn=packet_handler, store=False)\n",
    "\n"
   ]
  },
  {
   "cell_type": "markdown",
   "metadata": {},
   "source": []
  },
  {
   "cell_type": "code",
   "execution_count": null,
   "metadata": {},
   "outputs": [],
   "source": [
    "# packet capture\n",
    "from scapy.all import sniff, Ether, IP, TCP\n",
    "\n",
    "def packet_callback(pkt):\n",
    "    print(\"=\" * 50)\n",
    "    if Ether in pkt:\n",
    "        print(f\"[*] MAC: {pkt[Ether].src} -> {pkt[Ether].dst}\")\n",
    "    if IP in pkt:\n",
    "        print(f\"[+] IP: {pkt[IP].src} -> {pkt[IP].dst}\")\n",
    "    if TCP in pkt:\n",
    "        print(f\"[+] TCP: {pkt[TCP].sport} -> {pkt[TCP].dport}\")\n",
    "        print(f\"Flags: {pkt[TCP].flags}\")\n",
    "\n",
    "# Start sniffing (replace 'wlan0' with your interface name)\n",
    "sniff(iface=\"Wi-Fi\", prn=packet_callback, store=0)\n"
   ]
  }
 ],
 "metadata": {
  "kernelspec": {
   "display_name": "adv_venv",
   "language": "python",
   "name": "python3"
  },
  "language_info": {
   "codemirror_mode": {
    "name": "ipython",
    "version": 3
   },
   "file_extension": ".py",
   "mimetype": "text/x-python",
   "name": "python",
   "nbconvert_exporter": "python",
   "pygments_lexer": "ipython3",
   "version": "3.8.3"
  }
 },
 "nbformat": 4,
 "nbformat_minor": 2
}
